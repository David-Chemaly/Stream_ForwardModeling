{
 "cells": [
  {
   "cell_type": "code",
   "execution_count": 229,
   "metadata": {},
   "outputs": [],
   "source": [
    "import scipy\n",
    "from scipy.stats import norm, chi2, truncnorm, wishart\n",
    "\n",
    "import numpy as np\n",
    "import matplotlib.pyplot as plt"
   ]
  },
  {
   "cell_type": "code",
   "execution_count": 257,
   "metadata": {},
   "outputs": [],
   "source": [
    "class MyWishart(scipy.stats._multivariate.wishart_gen):\n",
    "    def __init__(self, a,b,c,d,e,f, *args, **kwargs):\n",
    "        super().__init__(*args, **kwargs)\n",
    "        # Additional initialization if necessary\n",
    "        self.a = a\n",
    "        self.b = b\n",
    "        self.c = c\n",
    "        self.d = d\n",
    "        self.e = e\n",
    "        self.f = f\n",
    "\n",
    "    def _standard_rvs(self, n, shape, dim, df, random_state):\n",
    "        \"\"\"\n",
    "        Parameters\n",
    "        ----------\n",
    "        n : integer\n",
    "            Number of variates to generate\n",
    "        shape : iterable\n",
    "            Shape of the variates to generate\n",
    "        dim : int\n",
    "            Dimension of the scale matrix\n",
    "        df : int\n",
    "            Degrees of freedom\n",
    "        random_state : {None, int, `numpy.random.Generator`,\n",
    "                        `numpy.random.RandomState`}, optional\n",
    "\n",
    "            If `seed` is None (or `np.random`), the `numpy.random.RandomState`\n",
    "            singleton is used.\n",
    "            If `seed` is an int, a new ``RandomState`` instance is used,\n",
    "            seeded with `seed`.\n",
    "            If `seed` is already a ``Generator`` or ``RandomState`` instance\n",
    "            then that instance is used.\n",
    "\n",
    "        Notes\n",
    "        -----\n",
    "        As this function does no argument checking, it should not be\n",
    "        called directly; use 'rvs' instead.\n",
    "\n",
    "        \"\"\"\n",
    "        # Random normal variates for off-diagonal elements from U(0,1)\n",
    "        n_tril = dim * (dim-1) // 2\n",
    "        covariances = np.array([norm.ppf(self.a, loc=0, scale=1),\n",
    "                                norm.ppf(self.b, loc=0, scale=1),\n",
    "                                norm.ppf(self.c, loc=0, scale=1)]).reshape(shape+(n_tril,))\n",
    "        \n",
    "        # Random chi-square variates for diagonal elements\n",
    "        variances = np.array([chi2.ppf(self.d, df-(0+1)+1)**0.5,\n",
    "                              chi2.ppf(self.e, df-(1+1)+1)**0.5,\n",
    "                              chi2.ppf(self.f, df-(2+1)+1)**0.5]).reshape((dim,) + shape[::-1]).T\n",
    "                              \n",
    "        \n",
    "        # Create the A matri(ces) - lower triangular\n",
    "        A = np.zeros(shape + (dim, dim))\n",
    "\n",
    "        # Input the covariances\n",
    "        size_idx = tuple([slice(None, None, None)]*len(shape))\n",
    "        tril_idx = np.tril_indices(dim, k=-1)\n",
    "        A[size_idx + tril_idx] = covariances\n",
    "\n",
    "        # Input the variances\n",
    "        diag_idx = np.diag_indices(dim)\n",
    "        A[size_idx + diag_idx] = variances\n",
    "\n",
    "        return A\n",
    "    \n",
    "class MyWishart(scipy.stats._multivariate.wishart_gen):\n",
    "    def __init__(self, a,b,c,d,e,f, *args, **kwargs):\n",
    "        super().__init__(*args, **kwargs)\n",
    "        # Additional initialization if necessary\n",
    "        self.a = a\n",
    "        self.b = b\n",
    "        self.c = c\n",
    "        self.d = d\n",
    "        self.e = e\n",
    "        self.f = f\n",
    "\n",
    "    def _standard_rvs(self, n, shape, dim, df, random_state):\n",
    "        '''\n",
    "        Adapted from scipy\n",
    "        '''\n",
    "        # Random normal variates for off-diagonal elements from U(0,1)\n",
    "        n_tril = dim * (dim-1) // 2\n",
    "        covariances = np.array([self.a,\n",
    "                                self.b,\n",
    "                                self.c]).reshape(shape+(n_tril,))\n",
    "        \n",
    "        # Random chi-square variates for diagonal elements\n",
    "        variances = np.array([self.d,\n",
    "                              self.e,\n",
    "                              self.f]).reshape((dim,) + shape[::-1]).T\n",
    "                              \n",
    "        \n",
    "        # Create the A matri(ces) - lower triangular\n",
    "        A = np.zeros(shape + (dim, dim))\n",
    "\n",
    "        # Input the covariances\n",
    "        size_idx = tuple([slice(None, None, None)]*len(shape))\n",
    "        tril_idx = np.tril_indices(dim, k=-1)\n",
    "        A[size_idx + tril_idx] = covariances\n",
    "\n",
    "        # Input the variances\n",
    "        diag_idx = np.diag_indices(dim)\n",
    "        A[size_idx + diag_idx] = variances\n",
    "\n",
    "        return A\n"
   ]
  },
  {
   "cell_type": "code",
   "execution_count": 252,
   "metadata": {},
   "outputs": [],
   "source": [
    "dim   = 6\n",
    "p     = np.random.uniform(0, 1, size=dim)\n",
    "df    = 3\n",
    "scale = np.identity(df)\n",
    "\n",
    "a = norm.ppf(p[0], loc=0, scale=1)\n",
    "b = norm.ppf(p[1], loc=0, scale=1)\n",
    "c = norm.ppf(p[2], loc=0, scale=1)\n",
    "\n",
    "df = 3\n",
    "kx = chi2.ppf(p[3], df-(0+1)+1)**0.5\n",
    "ky = chi2.ppf(p[4], df-(1+1)+1)**0.5\n",
    "kz = chi2.ppf(p[5], df-(2+1)+1)**0.5\n",
    "\n",
    "my_wishart = MyWishart(p[0], p[1], p[2], p[3], p[4], p[5])\n",
    "# my_wishart = MyWishart(a,b,c,kx,ky,kz)\n",
    "\n",
    "covariance_matrix = my_wishart.rvs(df, scale)\n",
    "eigvals, eigvec = scipy.linalg.eigh(covariance_matrix)\n",
    "\n",
    "q1, q2, q3 = eigvals\n",
    "R = eigvec"
   ]
  },
  {
   "cell_type": "code",
   "execution_count": 262,
   "metadata": {},
   "outputs": [],
   "source": [
    "N = 10000\n",
    "\n",
    "my_covariances = []\n",
    "my_eigvals = []\n",
    "my_eigvec = []\n",
    "for i in range(N):\n",
    "    p     = np.random.uniform(0, 1, size=dim)\n",
    "\n",
    "    a = norm.ppf(p[0], loc=0, scale=1)\n",
    "    b = norm.ppf(p[1], loc=0, scale=1)\n",
    "    c = norm.ppf(p[2], loc=0, scale=1)\n",
    "\n",
    "    df = 3\n",
    "    kx = chi2.ppf(p[3], df-(0+1)+1)**0.5\n",
    "    ky = chi2.ppf(p[4], df-(1+1)+1)**0.5\n",
    "    kz = chi2.ppf(p[5], df-(2+1)+1)**0.5\n",
    "\n",
    "    my_wishart = MyWishart(a,b,c,kx,ky,kz)\n",
    "    \n",
    "    # my_wishart = MyWishart(p[0], p[1], p[2], p[3], p[4], p[5])\n",
    "    covariance_matrix = my_wishart.rvs(df, scale)\n",
    "    eigvals, eigvec = scipy.linalg.eigh(covariance_matrix)\n",
    "    my_eigvals.append(eigvals)\n",
    "    my_eigvec.append(eigvec)\n",
    "    my_covariances.append(my_wishart.rvs(df, scale))\n",
    "my_eigvals = np.array(my_eigvals)\n",
    "my_eigvec = np.array(my_eigvec)\n",
    "my_covariances = np.array(my_covariances)"
   ]
  },
  {
   "cell_type": "code",
   "execution_count": 263,
   "metadata": {},
   "outputs": [],
   "source": [
    "covariances = wishart(df,scale).rvs(size=N)\n",
    "true_eigvals = []\n",
    "true_eigvec = []\n",
    "for i in range(N):\n",
    "    eigvals, eigvec = scipy.linalg.eigh(covariances[i])\n",
    "    true_eigvals.append(eigvals)\n",
    "    true_eigvec.append(eigvec)\n",
    "true_eigvals = np.array(true_eigvals)\n",
    "true_eigvec = np.array(true_eigvec)\n",
    "    "
   ]
  },
  {
   "cell_type": "code",
   "execution_count": 264,
   "metadata": {},
   "outputs": [
    {
     "data": {
      "image/png": "[encoded data removed]",
      "text/plain": [
       "<Figure size 640x480 with 1 Axes>"
      ]
     },
     "metadata": {},
     "output_type": "display_data"
    }
   ],
   "source": [
    "# distribution of major axes\n",
    "plt.hist(my_eigvals[:,0]**.5,alpha=.2);\n",
    "plt.hist(my_eigvals[:,1]**.5,alpha=.2);\n",
    "plt.hist(my_eigvals[:,2]**.5,alpha=.2);\n"
   ]
  },
  {
   "cell_type": "code",
   "execution_count": 265,
   "metadata": {},
   "outputs": [
    {
     "data": {
      "image/png": "[encoded data removed]",
      "text/plain": [
       "<Figure size 640x480 with 1 Axes>"
      ]
     },
     "metadata": {},
     "output_type": "display_data"
    }
   ],
   "source": [
    "# distribution of major axes\n",
    "plt.hist(true_eigvals[:,0]**.5,alpha=.2);\n",
    "plt.hist(true_eigvals[:,1]**.5,alpha=.2);\n",
    "plt.hist(true_eigvals[:,2]**.5,alpha=.2);\n"
   ]
  },
  {
   "cell_type": "code",
   "execution_count": null,
   "metadata": {},
   "outputs": [],
   "source": []
  }
 ],
 "metadata": {
  "kernelspec": {
   "display_name": "Astro",
   "language": "python",
   "name": "python3"
  },
  "language_info": {
   "codemirror_mode": {
    "name": "ipython",
    "version": 3
   },
   "file_extension": ".py",
   "mimetype": "text/x-python",
   "name": "python",
   "nbconvert_exporter": "python",
   "pygments_lexer": "ipython3",
   "version": "3.10.14"
  }
 },
 "nbformat": 4,
 "nbformat_minor": 2
}
