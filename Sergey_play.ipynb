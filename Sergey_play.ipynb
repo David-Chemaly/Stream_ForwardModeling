{
 "cells": [
  {
   "cell_type": "code",
   "execution_count": 1,
   "metadata": {},
   "outputs": [],
   "source": [
    "%reload_ext autoreload\n",
    "%autoreload 2\n",
    "\n",
    "import numpy as np\n",
    "from tqdm import tqdm\n",
    "import astropy.units as u\n",
    "import matplotlib.pyplot as plt\n",
    "from multiprocessing import Pool\n",
    "from dynesty import plotting as dyplot\n",
    "\n",
    "import scipy\n",
    "from scipy.interpolate import interp1d, CubicSpline\n",
    "from scipy.stats import norm, linregress\n",
    "from scipy.spatial.transform import Rotation as R\n",
    "from sklearn.mixture import GaussianMixture\n",
    "\n",
    "import astropy.units as u\n",
    "from astropy.constants import G\n",
    "G = G.to(u.pc * u.Msun**-1 * (u.km / u.s)**2)\n",
    "\n",
    "import agama\n",
    "# working units: 1 Msun, 1 kpc, 1 km/s\n",
    "agama.setUnits(length=1, velocity=1, mass=1)\n",
    "\n",
    "from Sergey_dynesty_orbit_2D import *\n",
    "\n",
    "BAD_VAL = 1e50\n",
    "SUPER_BAD_VAL = 1e80"
   ]
  },
  {
   "cell_type": "code",
   "execution_count": 3,
   "metadata": {},
   "outputs": [],
   "source": [
    "from Sergey_fitter import *\n",
    "from Denis_dynesty_orbit_0D import *"
   ]
  },
  {
   "cell_type": "code",
   "execution_count": null,
   "metadata": {},
   "outputs": [],
   "source": []
  },
  {
   "cell_type": "code",
   "execution_count": 34,
   "metadata": {},
   "outputs": [
    {
     "name": "stdout",
     "output_type": "stream",
     "text": [
      "-6.066076091391984\n"
     ]
    }
   ],
   "source": [
    "seed = 42\n",
    "data, trueps = getdatas(1, seed=seed)"
   ]
  },
  {
   "cell_type": "code",
   "execution_count": null,
   "metadata": {},
   "outputs": [],
   "source": [
    "dns = testfit(seed=seed)"
   ]
  }
 ],
 "metadata": {
  "kernelspec": {
   "display_name": "Astro",
   "language": "python",
   "name": "python3"
  },
  "language_info": {
   "codemirror_mode": {
    "name": "ipython",
    "version": 3
   },
   "file_extension": ".py",
   "mimetype": "text/x-python",
   "name": "python",
   "nbconvert_exporter": "python",
   "pygments_lexer": "ipython3",
   "version": "3.10.14"
  }
 },
 "nbformat": 4,
 "nbformat_minor": 2
}
